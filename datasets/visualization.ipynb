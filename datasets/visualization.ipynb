{
 "cells": [
  {
   "cell_type": "code",
   "execution_count": null,
   "id": "a7d1d880-ff1f-407e-9478-8535c92d07a7",
   "metadata": {},
   "outputs": [],
   "source": [
    "import cv2\n",
    "import torch\n",
    "import numpy as np\n",
    "import open3d as o3d\n",
    "from pathlib import Path\n",
    "\n",
    "cams_limit = 100\n",
    "rgb_dir = Path('EiffelTower/train/rgb/')"
   ]
  },
  {
   "cell_type": "code",
   "execution_count": null,
   "id": "0699e1d8-3520-4cc9-bbf6-257fca659a9f",
   "metadata": {},
   "outputs": [],
   "source": [
    "inits = []\n",
    "for i, rgb_path in enumerate(sorted(rgb_dir.iterdir())):\n",
    "    init_path = rgb_path.parent / '..' / 'init' / rgb_path.with_suffix('.dat').name\n",
    "    init = torch.load(init_path)\n",
    "    init = init[:, torch.any(init != 0, dim=0)].T\n",
    "    inits.append(init[::100])\n",
    "inits = torch.vstack(inits)\n",
    "inits = inits[torch.all(inits.abs() < 1000, dim=1)]  # filter outliers\n",
    "all_pcl = o3d.geometry.PointCloud()\n",
    "all_pcl.points = o3d.utility.Vector3dVector(inits.numpy())\n",
    "all_pcl.paint_uniform_color([0.5, 0.5, 0.5])"
   ]
  },
  {
   "cell_type": "code",
   "execution_count": null,
   "id": "63835b9d-c0ec-425b-a9c1-2e484a7323ac",
   "metadata": {},
   "outputs": [],
   "source": [
    "vis = o3d.visualization.Visualizer()\n",
    "vis.create_window()\n",
    "\n",
    "vis.add_geometry(all_pcl)\n",
    "\n",
    "pcl = o3d.geometry.PointCloud()\n",
    "vis.add_geometry(pcl)\n",
    "\n",
    "cameras = []\n",
    "\n",
    "for i, rgb_path in enumerate(sorted(rgb_dir.iterdir())):\n",
    "    \n",
    "    # update point cloud\n",
    "    init_path = rgb_path.parent / '..' / 'init' / rgb_path.with_suffix('.dat').name\n",
    "    init = torch.load(init_path)\n",
    "    init = init[:, torch.any(init != 0, dim=0)].T\n",
    "    \n",
    "    pcl.points = o3d.utility.Vector3dVector(init.numpy())\n",
    "    pcl.paint_uniform_color([1.0, 0.0, 0.0])\n",
    "    vis.update_geometry(pcl)\n",
    "    \n",
    "    # set up camera\n",
    "    rgb = cv2.imread(str(rgb_path))\n",
    "    h, w, _ = rgb.shape\n",
    "    \n",
    "    pose_path = rgb_path.parent / '..' / 'poses' / rgb_path.with_suffix('.txt').name\n",
    "    pose = np.stack([np.array(list(map(float, line.split(' ')))) for line in pose_path.read_text().splitlines()])\n",
    "    \n",
    "    focal_path = rgb_path.parent / '..' / 'calibration' / rgb_path.with_suffix('.txt').name\n",
    "    focal = float(focal_path.read_text())\n",
    "    \n",
    "    K = np.array([\n",
    "        [focal, 0, w / 2],\n",
    "        [0, focal, h / 2],\n",
    "        [0, 0, 1]\n",
    "    ])\n",
    "    \n",
    "    camera = o3d.geometry.LineSet.create_camera_visualization(w, h, K, np.linalg.inv(pose), 1.0)\n",
    "    camera.paint_uniform_color([1.0, 0.0, 0.0])\n",
    "    vis.add_geometry(camera, reset_bounding_box=True if i < cams_limit else False)\n",
    "    cameras.append(camera)\n",
    "    if len(cameras) > cams_limit:\n",
    "        vis.remove_geometry(cameras[0], reset_bounding_box=False)\n",
    "        del cameras[0]\n",
    "    for camera in cameras[:-1]:\n",
    "        camera.paint_uniform_color([1.0, 0.9, 0.9])\n",
    "        vis.update_geometry(camera)\n",
    "\n",
    "    vis.poll_events()\n",
    "    vis.update_renderer()\n",
    "    \n",
    "vis.destroy_window()"
   ]
  },
  {
   "cell_type": "code",
   "execution_count": null,
   "id": "5999e1f9-4d22-447b-a110-1da8e4649baa",
   "metadata": {},
   "outputs": [],
   "source": []
  }
 ],
 "metadata": {
  "kernelspec": {
   "display_name": "Python 3 (ipykernel)",
   "language": "python",
   "name": "python3"
  },
  "language_info": {
   "codemirror_mode": {
    "name": "ipython",
    "version": 3
   },
   "file_extension": ".py",
   "mimetype": "text/x-python",
   "name": "python",
   "nbconvert_exporter": "python",
   "pygments_lexer": "ipython3",
   "version": "3.9.12"
  }
 },
 "nbformat": 4,
 "nbformat_minor": 5
}
